{
 "cells": [
  {
   "cell_type": "markdown",
   "id": "f72e833b",
   "metadata": {},
   "source": [
    "Сложение двух чисел:"
   ]
  },
  {
   "cell_type": "code",
   "execution_count": 2,
   "id": "746f2f3c",
   "metadata": {},
   "outputs": [
    {
     "data": {
      "text/plain": [
       "18"
      ]
     },
     "execution_count": 2,
     "metadata": {},
     "output_type": "execute_result"
    }
   ],
   "source": [
    "def sum_num(a:int, b:int):\n",
    "    return sum([a,b])\n",
    "\n",
    "sum_num(6, 12)"
   ]
  },
  {
   "cell_type": "markdown",
   "id": "dad141d9",
   "metadata": {},
   "source": [
    "Нахождение среднего арифметического трех чисел:"
   ]
  },
  {
   "cell_type": "code",
   "execution_count": 4,
   "id": "6cd7de40",
   "metadata": {},
   "outputs": [
    {
     "data": {
      "text/plain": [
       "14.0"
      ]
     },
     "execution_count": 4,
     "metadata": {},
     "output_type": "execute_result"
    }
   ],
   "source": [
    "def arithmetic_mean(a:int, b:int, c:int):\n",
    "    return sum([a,b,c])/3\n",
    "\n",
    "arithmetic_mean(6, 12, 24)"
   ]
  },
  {
   "cell_type": "markdown",
   "id": "f26a9157",
   "metadata": {},
   "source": [
    "Выводит квадрат заданного числа:"
   ]
  },
  {
   "cell_type": "code",
   "execution_count": 6,
   "id": "74e67fb3",
   "metadata": {},
   "outputs": [
    {
     "data": {
      "text/plain": [
       "16"
      ]
     },
     "execution_count": 6,
     "metadata": {},
     "output_type": "execute_result"
    }
   ],
   "source": [
    "def squaringn(a:int):\n",
    "    return pow(a, 2)\n",
    "\n",
    "squaringn(4)"
   ]
  }
 ],
 "metadata": {
  "kernelspec": {
   "display_name": "Python 3",
   "language": "python",
   "name": "python3"
  },
  "language_info": {
   "codemirror_mode": {
    "name": "ipython",
    "version": 3
   },
   "file_extension": ".py",
   "mimetype": "text/x-python",
   "name": "python",
   "nbconvert_exporter": "python",
   "pygments_lexer": "ipython3",
   "version": "3.14.0"
  }
 },
 "nbformat": 4,
 "nbformat_minor": 5
}
