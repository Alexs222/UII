{
  "cells": [
    {
      "cell_type": "markdown",
      "metadata": {
        "id": "gYSFnD7tKYKn"
      },
      "source": [
        "## Задание 1\n",
        "\n",
        "**Описание:** Создание класса `Rectangle` для определения прямоугольника с методами для расчета площади и периметра.\n",
        "\n",
        "1. Создайте класс `Rectangle` с атрибутами длины и ширины.\n",
        "2. Реализуйте метод `area` для расчета площади.\n",
        "3. Реализуйте метод `perimeter` для расчета периметра.\n",
        "4. Создайте объект класса `Rectangle` и выведите его площадь и периметр."
      ]
    },
    {
      "cell_type": "code",
      "execution_count": 9,
      "metadata": {},
      "outputs": [
        {
          "name": "stdout",
          "output_type": "stream",
          "text": [
            "Создание объекта\n",
            "Площадь равна: 900\n",
            "Периметр равен: 122\n"
          ]
        }
      ],
      "source": [
        "class Rectangle():\n",
        "  def __init__(self, length, width):\n",
        "    self.length = length\n",
        "    self.wigth = width\n",
        "    print(\"Создание объекта\")\n",
        "\n",
        "  def area(self):\n",
        "    return self.length * self.wigth\n",
        "  \n",
        "  def perimeter(self):\n",
        "    return (self.length + self.wigth) * 2\n",
        "\n",
        "rec = Rectangle(36, 25)\n",
        "print(f'Площадь равна: {rec.area()}') \n",
        "print(f'Периметр равен: {rec.perimeter()}') "
      ]
    },
    {
      "cell_type": "markdown",
      "metadata": {
        "id": "yJ735xh7LnQS"
      },
      "source": [
        "## Задание 2\n",
        "\n",
        "**Описание:** Создание класса `Circle` с использованием аннотаций свойств для управления радиусом и диаметром.\n",
        "\n",
        "1. Создайте класс `Circle` с атрибутом радиуса.\n",
        "2. Реализуйте свойства `radius` и `diameter` с аннотациями `@property` и `@diameter.setter`.\n",
        "3. Создайте объект класса `Circle`, измените его диаметр и выведите радиус и диаметр.\n",
        "4. Добавьте `doc string` и аннотацию типов к коду."
      ]
    },
    {
      "cell_type": "code",
      "execution_count": 16,
      "metadata": {},
      "outputs": [
        {
          "name": "stdout",
          "output_type": "stream",
          "text": [
            "Радиус = 50.0\n",
            "Диаметр = 100.0\n"
          ]
        }
      ],
      "source": [
        "class Circle:\n",
        "    \"\"\"Класс, представляющий геометрическую фигуру окружность.\n",
        "    \n",
        "    Attributes:\n",
        "        __radius (float): Приватный атрибут, хранящий радиус окружности.\n",
        "    \"\"\"\n",
        "    \n",
        "    def __init__(self, radius: float) -> None:\n",
        "        \"\"\"Инициализирует окружность с заданным радиусом.\n",
        "        \n",
        "        Args:\n",
        "            radius (float): Радиус окружности. Должен быть положительным числом.\n",
        "            \n",
        "        Raises:\n",
        "            ValueError: Если радиус отрицательный или ноль.\n",
        "        \"\"\"\n",
        "        if radius <= 0:\n",
        "            raise ValueError(\"Радиус должен быть положительным числом\")\n",
        "        self.__radius = radius\n",
        "    \n",
        "    @property\n",
        "    def diameter(self) -> float:\n",
        "        \"\"\"float: Диаметр окружности (вычисляемое свойство).\"\"\"\n",
        "        return self.__radius * 2\n",
        "    \n",
        "    @diameter.setter\n",
        "    def diameter(self, diameter: float) -> None:\n",
        "        \"\"\"Устанавливает диаметр окружности, автоматически изменяя радиус.\n",
        "        \n",
        "        Args:\n",
        "            diameter (float): Новый диаметр окружности.\n",
        "            \n",
        "        Raises:\n",
        "            ValueError: Если диаметр отрицательный или ноль.\n",
        "        \"\"\"\n",
        "        if diameter <= 0:\n",
        "            raise ValueError(\"Диаметр должен быть положительным числом\")\n",
        "        self.__radius = diameter / 2\n",
        "    \n",
        "    @property\n",
        "    def radius(self) -> float:\n",
        "        \"\"\"float: Радиус окружности (только для чтения).\"\"\"\n",
        "        return self.__radius\n",
        "\n",
        "    def printing_radius(self) -> None:\n",
        "        \"\"\"Выводит радиус окружности в консоль.\"\"\"\n",
        "        print(f'Радиус = {self.__radius}')\n",
        "    \n",
        "    def printing_diameter(self) -> None:\n",
        "        \"\"\"Выводит диаметр окружности в консоль.\"\"\"\n",
        "        print(f'Диаметр = {self.diameter}')\n",
        "    \n",
        "    def __str__(self):\n",
        "        return f'Радиус: {self.__radius}, Диаметр: {self.diameter}'\n",
        "\n",
        "rad = Circle(35)\n",
        "rad.diameter = 100\n",
        "rad.printing_radius()\n",
        "rad.printing_diameter()\n",
        "\n",
        "\n",
        "\n"
      ]
    }
  ],
  "metadata": {
    "colab": {
      "provenance": []
    },
    "kernelspec": {
      "display_name": ".venv (3.14.0)",
      "language": "python",
      "name": "python3"
    },
    "language_info": {
      "codemirror_mode": {
        "name": "ipython",
        "version": 3
      },
      "file_extension": ".py",
      "mimetype": "text/x-python",
      "name": "python",
      "nbconvert_exporter": "python",
      "pygments_lexer": "ipython3",
      "version": "3.14.0"
    }
  },
  "nbformat": 4,
  "nbformat_minor": 0
}
